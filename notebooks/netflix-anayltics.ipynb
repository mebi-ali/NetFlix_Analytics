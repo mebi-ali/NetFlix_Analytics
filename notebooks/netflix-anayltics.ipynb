{
 "cells": [
  {
   "cell_type": "code",
   "execution_count": 1,
   "id": "1b237cce",
   "metadata": {
    "execution": {
     "iopub.execute_input": "2023-01-19T13:14:26.308898Z",
     "iopub.status.busy": "2023-01-19T13:14:26.307514Z",
     "iopub.status.idle": "2023-01-19T13:14:27.459825Z",
     "shell.execute_reply": "2023-01-19T13:14:27.458426Z"
    },
    "papermill": {
     "duration": 1.163853,
     "end_time": "2023-01-19T13:14:27.462966",
     "exception": false,
     "start_time": "2023-01-19T13:14:26.299113",
     "status": "completed"
    },
    "tags": []
   },
   "outputs": [],
   "source": [
    "# Libraries\n",
    "import numpy as np # linear algebra\n",
    "import pandas as pd # data processing, CSV file I/O (e.g. pd.read_csv)\n",
    "import matplotlib.pyplot as plt\n",
    "import seaborn as sns\n",
    "%matplotlib inline\n",
    "\n",
    "## Setting Seaborn\n",
    "sns.set(style='white', context='paper', palette='cividis')"
   ]
  },
  {
   "cell_type": "code",
   "execution_count": 2,
   "id": "b4d94491",
   "metadata": {
    "_cell_guid": "b1076dfc-b9ad-4769-8c92-a6c4dae69d19",
    "_uuid": "8f2839f25d086af736a60e9eeb907d3b93b6e0e5",
    "execution": {
     "iopub.execute_input": "2023-01-19T13:14:27.472733Z",
     "iopub.status.busy": "2023-01-19T13:14:27.472289Z",
     "iopub.status.idle": "2023-01-19T13:14:27.485304Z",
     "shell.execute_reply": "2023-01-19T13:14:27.483903Z"
    },
    "papermill": {
     "duration": 0.020808,
     "end_time": "2023-01-19T13:14:27.487914",
     "exception": false,
     "start_time": "2023-01-19T13:14:27.467106",
     "status": "completed"
    },
    "tags": []
   },
   "outputs": [
    {
     "name": "stdout",
     "output_type": "stream",
     "text": [
      "/kaggle/input/netflix-tv-shows-and-movies/NetFlix.csv\n"
     ]
    }
   ],
   "source": [
    "# This Python 3 environment comes with many helpful analytics libraries installed\n",
    "# It is defined by the kaggle/python Docker image: https://github.com/kaggle/docker-python\n",
    "# For example, here's several helpful packages to load\n",
    "\n",
    "# Input data files are available in the read-only \"../input/\" directory\n",
    "# For example, running this (by clicking run or pressing Shift+Enter) will list all files under the input directory\n",
    "\n",
    "import os\n",
    "for dirname, _, filenames in os.walk('/kaggle/input'):\n",
    "    for filename in filenames:\n",
    "        print(os.path.join(dirname, filename))\n",
    "\n",
    "# You can write up to 20GB to the current directory (/kaggle/working/) that gets preserved as output when you create a version using \"Save & Run All\" \n",
    "# You can also write temporary files to /kaggle/temp/, but they won't be saved outside of the current session"
   ]
  },
  {
   "cell_type": "code",
   "execution_count": 3,
   "id": "9743fd8c",
   "metadata": {
    "execution": {
     "iopub.execute_input": "2023-01-19T13:14:27.497973Z",
     "iopub.status.busy": "2023-01-19T13:14:27.497048Z",
     "iopub.status.idle": "2023-01-19T13:14:27.642928Z",
     "shell.execute_reply": "2023-01-19T13:14:27.641916Z"
    },
    "papermill": {
     "duration": 0.153714,
     "end_time": "2023-01-19T13:14:27.645681",
     "exception": false,
     "start_time": "2023-01-19T13:14:27.491967",
     "status": "completed"
    },
    "tags": []
   },
   "outputs": [],
   "source": [
    "# Load Data\n",
    "nf_df = pd.read_csv('/kaggle/input/netflix-tv-shows-and-movies/NetFlix.csv')"
   ]
  },
  {
   "cell_type": "markdown",
   "id": "55818369",
   "metadata": {
    "papermill": {
     "duration": 0.003779,
     "end_time": "2023-01-19T13:14:27.653795",
     "exception": false,
     "start_time": "2023-01-19T13:14:27.650016",
     "status": "completed"
    },
    "tags": []
   },
   "source": [
    "# *Data Process* \n",
    "* **Data Shape**\n",
    "* **Data Head/Sample**\n",
    "* **Data Types**\n",
    "* **Missing Values**\n",
    "* **Describe Data**\n",
    "* **Data Duplicates**\n",
    "* **Data Correlation**"
   ]
  },
  {
   "cell_type": "code",
   "execution_count": 4,
   "id": "a5942b1b",
   "metadata": {
    "execution": {
     "iopub.execute_input": "2023-01-19T13:14:27.663485Z",
     "iopub.status.busy": "2023-01-19T13:14:27.663084Z",
     "iopub.status.idle": "2023-01-19T13:14:27.668824Z",
     "shell.execute_reply": "2023-01-19T13:14:27.667568Z"
    },
    "papermill": {
     "duration": 0.014191,
     "end_time": "2023-01-19T13:14:27.671952",
     "exception": false,
     "start_time": "2023-01-19T13:14:27.657761",
     "status": "completed"
    },
    "tags": []
   },
   "outputs": [
    {
     "name": "stdout",
     "output_type": "stream",
     "text": [
      "Dataset (rows, col): (7787, 12)\n"
     ]
    }
   ],
   "source": [
    "# Rows and Columns in Dataset\n",
    "print(f'Dataset (rows, col): {nf_df.shape}')"
   ]
  },
  {
   "cell_type": "code",
   "execution_count": 5,
   "id": "a6fe7526",
   "metadata": {
    "execution": {
     "iopub.execute_input": "2023-01-19T13:14:27.681653Z",
     "iopub.status.busy": "2023-01-19T13:14:27.681267Z",
     "iopub.status.idle": "2023-01-19T13:14:27.716741Z",
     "shell.execute_reply": "2023-01-19T13:14:27.715535Z"
    },
    "papermill": {
     "duration": 0.043218,
     "end_time": "2023-01-19T13:14:27.719297",
     "exception": false,
     "start_time": "2023-01-19T13:14:27.676079",
     "status": "completed"
    },
    "tags": []
   },
   "outputs": [
    {
     "name": "stdout",
     "output_type": "stream",
     "text": [
      "Numerical Data:\n",
      "\n",
      "<class 'pandas.core.frame.DataFrame'>\n",
      "RangeIndex: 7787 entries, 0 to 7786\n",
      "Data columns (total 2 columns):\n",
      " #   Column        Non-Null Count  Dtype\n",
      "---  ------        --------------  -----\n",
      " 0   release_year  7787 non-null   int64\n",
      " 1   duration      7787 non-null   int64\n",
      "dtypes: int64(2)\n",
      "memory usage: 121.8 KB\n"
     ]
    }
   ],
   "source": [
    "# Data Types\n",
    "print('Numerical Data:\\n') \n",
    "nf_df.select_dtypes('number').info()"
   ]
  },
  {
   "cell_type": "code",
   "execution_count": 6,
   "id": "0b4c10a4",
   "metadata": {
    "execution": {
     "iopub.execute_input": "2023-01-19T13:14:27.729214Z",
     "iopub.status.busy": "2023-01-19T13:14:27.728781Z",
     "iopub.status.idle": "2023-01-19T13:14:27.749206Z",
     "shell.execute_reply": "2023-01-19T13:14:27.747506Z"
    },
    "papermill": {
     "duration": 0.028408,
     "end_time": "2023-01-19T13:14:27.751789",
     "exception": false,
     "start_time": "2023-01-19T13:14:27.723381",
     "status": "completed"
    },
    "tags": []
   },
   "outputs": [
    {
     "name": "stdout",
     "output_type": "stream",
     "text": [
      "Categorical Data:\n",
      "\n",
      "<class 'pandas.core.frame.DataFrame'>\n",
      "RangeIndex: 7787 entries, 0 to 7786\n",
      "Data columns (total 10 columns):\n",
      " #   Column       Non-Null Count  Dtype \n",
      "---  ------       --------------  ----- \n",
      " 0   show_id      7787 non-null   object\n",
      " 1   type         7787 non-null   object\n",
      " 2   title        7787 non-null   object\n",
      " 3   director     5398 non-null   object\n",
      " 4   cast         7069 non-null   object\n",
      " 5   country      7280 non-null   object\n",
      " 6   date_added   7777 non-null   object\n",
      " 7   rating       7780 non-null   object\n",
      " 8   genres       7787 non-null   object\n",
      " 9   description  7787 non-null   object\n",
      "dtypes: object(10)\n",
      "memory usage: 608.5+ KB\n"
     ]
    }
   ],
   "source": [
    "print('Categorical Data:\\n') \n",
    "nf_df.select_dtypes('object').info()"
   ]
  },
  {
   "cell_type": "code",
   "execution_count": 7,
   "id": "12f82eea",
   "metadata": {
    "execution": {
     "iopub.execute_input": "2023-01-19T13:14:27.762136Z",
     "iopub.status.busy": "2023-01-19T13:14:27.761708Z",
     "iopub.status.idle": "2023-01-19T13:14:27.773991Z",
     "shell.execute_reply": "2023-01-19T13:14:27.772738Z"
    },
    "papermill": {
     "duration": 0.020532,
     "end_time": "2023-01-19T13:14:27.776524",
     "exception": false,
     "start_time": "2023-01-19T13:14:27.755992",
     "status": "completed"
    },
    "tags": []
   },
   "outputs": [
    {
     "name": "stdout",
     "output_type": "stream",
     "text": [
      "\n",
      "Missing Values in Dataset:\n",
      "\n",
      "show_id            0\n",
      "type               0\n",
      "title              0\n",
      "director        2389\n",
      "cast             718\n",
      "country          507\n",
      "date_added        10\n",
      "release_year       0\n",
      "rating             7\n",
      "duration           0\n",
      "genres             0\n",
      "description        0\n",
      "dtype: int64\n"
     ]
    }
   ],
   "source": [
    "# Missing Values\n",
    "print(f'\\nMissing Values in Dataset:\\n\\n{nf_df.isnull().sum()}')"
   ]
  },
  {
   "cell_type": "code",
   "execution_count": 8,
   "id": "f7cf4ce2",
   "metadata": {
    "execution": {
     "iopub.execute_input": "2023-01-19T13:14:27.786737Z",
     "iopub.status.busy": "2023-01-19T13:14:27.786344Z",
     "iopub.status.idle": "2023-01-19T13:14:27.811276Z",
     "shell.execute_reply": "2023-01-19T13:14:27.810299Z"
    },
    "papermill": {
     "duration": 0.032897,
     "end_time": "2023-01-19T13:14:27.813621",
     "exception": false,
     "start_time": "2023-01-19T13:14:27.780724",
     "status": "completed"
    },
    "tags": []
   },
   "outputs": [
    {
     "name": "stdout",
     "output_type": "stream",
     "text": [
      "Duplicates in Dataset: 0\n"
     ]
    }
   ],
   "source": [
    "# Duplicates \n",
    "print(f'Duplicates in Dataset: {nf_df.duplicated().sum()}')"
   ]
  },
  {
   "cell_type": "code",
   "execution_count": 9,
   "id": "619f9ccb",
   "metadata": {
    "execution": {
     "iopub.execute_input": "2023-01-19T13:14:27.824020Z",
     "iopub.status.busy": "2023-01-19T13:14:27.823563Z",
     "iopub.status.idle": "2023-01-19T13:14:27.894749Z",
     "shell.execute_reply": "2023-01-19T13:14:27.893864Z"
    },
    "papermill": {
     "duration": 0.079048,
     "end_time": "2023-01-19T13:14:27.897075",
     "exception": false,
     "start_time": "2023-01-19T13:14:27.818027",
     "status": "completed"
    },
    "tags": []
   },
   "outputs": [
    {
     "data": {
      "text/html": [
       "<div>\n",
       "<style scoped>\n",
       "    .dataframe tbody tr th:only-of-type {\n",
       "        vertical-align: middle;\n",
       "    }\n",
       "\n",
       "    .dataframe tbody tr th {\n",
       "        vertical-align: top;\n",
       "    }\n",
       "\n",
       "    .dataframe thead th {\n",
       "        text-align: right;\n",
       "    }\n",
       "</style>\n",
       "<table border=\"1\" class=\"dataframe\">\n",
       "  <thead>\n",
       "    <tr style=\"text-align: right;\">\n",
       "      <th></th>\n",
       "      <th>show_id</th>\n",
       "      <th>type</th>\n",
       "      <th>title</th>\n",
       "      <th>director</th>\n",
       "      <th>cast</th>\n",
       "      <th>country</th>\n",
       "      <th>date_added</th>\n",
       "      <th>release_year</th>\n",
       "      <th>rating</th>\n",
       "      <th>duration</th>\n",
       "      <th>genres</th>\n",
       "      <th>description</th>\n",
       "    </tr>\n",
       "  </thead>\n",
       "  <tbody>\n",
       "    <tr>\n",
       "      <th>count</th>\n",
       "      <td>7787</td>\n",
       "      <td>7787</td>\n",
       "      <td>7787</td>\n",
       "      <td>5398</td>\n",
       "      <td>7069</td>\n",
       "      <td>7280</td>\n",
       "      <td>7777</td>\n",
       "      <td>7787.000000</td>\n",
       "      <td>7780</td>\n",
       "      <td>7787.000000</td>\n",
       "      <td>7787</td>\n",
       "      <td>7787</td>\n",
       "    </tr>\n",
       "    <tr>\n",
       "      <th>unique</th>\n",
       "      <td>7787</td>\n",
       "      <td>2</td>\n",
       "      <td>7787</td>\n",
       "      <td>4049</td>\n",
       "      <td>6831</td>\n",
       "      <td>681</td>\n",
       "      <td>1565</td>\n",
       "      <td>NaN</td>\n",
       "      <td>14</td>\n",
       "      <td>NaN</td>\n",
       "      <td>492</td>\n",
       "      <td>7769</td>\n",
       "    </tr>\n",
       "    <tr>\n",
       "      <th>top</th>\n",
       "      <td>s1</td>\n",
       "      <td>Movie</td>\n",
       "      <td>3%</td>\n",
       "      <td>Raúl Campos, Jan Suter</td>\n",
       "      <td>David Attenborough</td>\n",
       "      <td>United States</td>\n",
       "      <td>01-Jan-20</td>\n",
       "      <td>NaN</td>\n",
       "      <td>TV-MA</td>\n",
       "      <td>NaN</td>\n",
       "      <td>Documentaries</td>\n",
       "      <td>Multiple women report their husbands as missin...</td>\n",
       "    </tr>\n",
       "    <tr>\n",
       "      <th>freq</th>\n",
       "      <td>1</td>\n",
       "      <td>5377</td>\n",
       "      <td>1</td>\n",
       "      <td>18</td>\n",
       "      <td>18</td>\n",
       "      <td>2555</td>\n",
       "      <td>118</td>\n",
       "      <td>NaN</td>\n",
       "      <td>2863</td>\n",
       "      <td>NaN</td>\n",
       "      <td>334</td>\n",
       "      <td>3</td>\n",
       "    </tr>\n",
       "    <tr>\n",
       "      <th>mean</th>\n",
       "      <td>NaN</td>\n",
       "      <td>NaN</td>\n",
       "      <td>NaN</td>\n",
       "      <td>NaN</td>\n",
       "      <td>NaN</td>\n",
       "      <td>NaN</td>\n",
       "      <td>NaN</td>\n",
       "      <td>2013.932580</td>\n",
       "      <td>NaN</td>\n",
       "      <td>69.122769</td>\n",
       "      <td>NaN</td>\n",
       "      <td>NaN</td>\n",
       "    </tr>\n",
       "    <tr>\n",
       "      <th>std</th>\n",
       "      <td>NaN</td>\n",
       "      <td>NaN</td>\n",
       "      <td>NaN</td>\n",
       "      <td>NaN</td>\n",
       "      <td>NaN</td>\n",
       "      <td>NaN</td>\n",
       "      <td>NaN</td>\n",
       "      <td>8.757395</td>\n",
       "      <td>NaN</td>\n",
       "      <td>50.950743</td>\n",
       "      <td>NaN</td>\n",
       "      <td>NaN</td>\n",
       "    </tr>\n",
       "    <tr>\n",
       "      <th>min</th>\n",
       "      <td>NaN</td>\n",
       "      <td>NaN</td>\n",
       "      <td>NaN</td>\n",
       "      <td>NaN</td>\n",
       "      <td>NaN</td>\n",
       "      <td>NaN</td>\n",
       "      <td>NaN</td>\n",
       "      <td>1925.000000</td>\n",
       "      <td>NaN</td>\n",
       "      <td>1.000000</td>\n",
       "      <td>NaN</td>\n",
       "      <td>NaN</td>\n",
       "    </tr>\n",
       "    <tr>\n",
       "      <th>25%</th>\n",
       "      <td>NaN</td>\n",
       "      <td>NaN</td>\n",
       "      <td>NaN</td>\n",
       "      <td>NaN</td>\n",
       "      <td>NaN</td>\n",
       "      <td>NaN</td>\n",
       "      <td>NaN</td>\n",
       "      <td>2013.000000</td>\n",
       "      <td>NaN</td>\n",
       "      <td>2.000000</td>\n",
       "      <td>NaN</td>\n",
       "      <td>NaN</td>\n",
       "    </tr>\n",
       "    <tr>\n",
       "      <th>50%</th>\n",
       "      <td>NaN</td>\n",
       "      <td>NaN</td>\n",
       "      <td>NaN</td>\n",
       "      <td>NaN</td>\n",
       "      <td>NaN</td>\n",
       "      <td>NaN</td>\n",
       "      <td>NaN</td>\n",
       "      <td>2017.000000</td>\n",
       "      <td>NaN</td>\n",
       "      <td>88.000000</td>\n",
       "      <td>NaN</td>\n",
       "      <td>NaN</td>\n",
       "    </tr>\n",
       "    <tr>\n",
       "      <th>75%</th>\n",
       "      <td>NaN</td>\n",
       "      <td>NaN</td>\n",
       "      <td>NaN</td>\n",
       "      <td>NaN</td>\n",
       "      <td>NaN</td>\n",
       "      <td>NaN</td>\n",
       "      <td>NaN</td>\n",
       "      <td>2018.000000</td>\n",
       "      <td>NaN</td>\n",
       "      <td>106.000000</td>\n",
       "      <td>NaN</td>\n",
       "      <td>NaN</td>\n",
       "    </tr>\n",
       "    <tr>\n",
       "      <th>max</th>\n",
       "      <td>NaN</td>\n",
       "      <td>NaN</td>\n",
       "      <td>NaN</td>\n",
       "      <td>NaN</td>\n",
       "      <td>NaN</td>\n",
       "      <td>NaN</td>\n",
       "      <td>NaN</td>\n",
       "      <td>2021.000000</td>\n",
       "      <td>NaN</td>\n",
       "      <td>312.000000</td>\n",
       "      <td>NaN</td>\n",
       "      <td>NaN</td>\n",
       "    </tr>\n",
       "  </tbody>\n",
       "</table>\n",
       "</div>"
      ],
      "text/plain": [
       "       show_id   type title                director                cast  \\\n",
       "count     7787   7787  7787                    5398                7069   \n",
       "unique    7787      2  7787                    4049                6831   \n",
       "top         s1  Movie    3%  Raúl Campos, Jan Suter  David Attenborough   \n",
       "freq         1   5377     1                      18                  18   \n",
       "mean       NaN    NaN   NaN                     NaN                 NaN   \n",
       "std        NaN    NaN   NaN                     NaN                 NaN   \n",
       "min        NaN    NaN   NaN                     NaN                 NaN   \n",
       "25%        NaN    NaN   NaN                     NaN                 NaN   \n",
       "50%        NaN    NaN   NaN                     NaN                 NaN   \n",
       "75%        NaN    NaN   NaN                     NaN                 NaN   \n",
       "max        NaN    NaN   NaN                     NaN                 NaN   \n",
       "\n",
       "              country date_added  release_year rating     duration  \\\n",
       "count            7280       7777   7787.000000   7780  7787.000000   \n",
       "unique            681       1565           NaN     14          NaN   \n",
       "top     United States  01-Jan-20           NaN  TV-MA          NaN   \n",
       "freq             2555        118           NaN   2863          NaN   \n",
       "mean              NaN        NaN   2013.932580    NaN    69.122769   \n",
       "std               NaN        NaN      8.757395    NaN    50.950743   \n",
       "min               NaN        NaN   1925.000000    NaN     1.000000   \n",
       "25%               NaN        NaN   2013.000000    NaN     2.000000   \n",
       "50%               NaN        NaN   2017.000000    NaN    88.000000   \n",
       "75%               NaN        NaN   2018.000000    NaN   106.000000   \n",
       "max               NaN        NaN   2021.000000    NaN   312.000000   \n",
       "\n",
       "               genres                                        description  \n",
       "count            7787                                               7787  \n",
       "unique            492                                               7769  \n",
       "top     Documentaries  Multiple women report their husbands as missin...  \n",
       "freq              334                                                  3  \n",
       "mean              NaN                                                NaN  \n",
       "std               NaN                                                NaN  \n",
       "min               NaN                                                NaN  \n",
       "25%               NaN                                                NaN  \n",
       "50%               NaN                                                NaN  \n",
       "75%               NaN                                                NaN  \n",
       "max               NaN                                                NaN  "
      ]
     },
     "execution_count": 9,
     "metadata": {},
     "output_type": "execute_result"
    }
   ],
   "source": [
    "# Description  of Data\n",
    "nf_df.describe(include=['object', 'number'])"
   ]
  },
  {
   "cell_type": "code",
   "execution_count": 10,
   "id": "4b46e84a",
   "metadata": {
    "execution": {
     "iopub.execute_input": "2023-01-19T13:14:27.908741Z",
     "iopub.status.busy": "2023-01-19T13:14:27.908071Z",
     "iopub.status.idle": "2023-01-19T13:14:28.199206Z",
     "shell.execute_reply": "2023-01-19T13:14:28.197807Z"
    },
    "papermill": {
     "duration": 0.300074,
     "end_time": "2023-01-19T13:14:28.202014",
     "exception": false,
     "start_time": "2023-01-19T13:14:27.901940",
     "status": "completed"
    },
    "tags": []
   },
   "outputs": [
    {
     "data": {
      "text/plain": [
       "Text(0.5, 1.0, 'Correlation in Dataset\\n')"
      ]
     },
     "execution_count": 10,
     "metadata": {},
     "output_type": "execute_result"
    },
    {
     "data": {
      "image/png": "[encoded data removed]",
      "text/plain": [
       "<Figure size 432x288 with 2 Axes>"
      ]
     },
     "metadata": {},
     "output_type": "display_data"
    }
   ],
   "source": [
    "# Correlations in Dataset\n",
    "ax = sns.heatmap(nf_df.corr(), annot=True, cmap='YlGnBu')\n",
    "ax.set_title(\"Correlation in Dataset\\n\", fontsize=20)"
   ]
  },
  {
   "cell_type": "markdown",
   "id": "ff568eeb",
   "metadata": {
    "papermill": {
     "duration": 0.004858,
     "end_time": "2023-01-19T13:14:28.212107",
     "exception": false,
     "start_time": "2023-01-19T13:14:28.207249",
     "status": "completed"
    },
    "tags": []
   },
   "source": [
    "# About Data \n",
    "#### This Dataset consist **7787 rows** and **12 columns**.\n",
    "\n",
    "### **Data Types**\n",
    "#### This Dataset contains **2 Numrical Data and 10 Categorical Data**\n",
    "\n",
    "### **Missing Values**\n",
    "    director        2389\n",
    "    cast             718\n",
    "    country          507\n",
    "    date_added        10\n",
    "    rating             7\n",
    "\n",
    "### **Description**\n",
    "#### Netflix (NFLX) is the dominant company in the on-demand media industry, with 167 million paying subscribers around the world.By creating compelling original programming, analyzing its user data to serve subscribers better, and above all by letting people consume content in the ways they prefer, Netflix disrupted the television industry and forced cable companies to change the way they do business.\n",
    "\n",
    "#### Features present:\n",
    "    Show_ID-Id of the movie/TV show\n",
    "    type-Movie or TV show\n",
    "    title-Title of the movie/TV show\n",
    "    director-Director of the movie/TV show\n",
    "    Cast-actors/actress who have acted in the movie/TV show\n",
    "    country-Country the movie/TV show belongs to\n",
    "    date_added-Aired dated-Released date on netflix\n",
    "    release year-Original movie/TV show release date\n",
    "    rating-Rating of the movie/TV show\n",
    "    duration-Length of the movie\n",
    "    genre-Genre of the movie\n",
    "    Description-Summary of the movie\n"
   ]
  },
  {
   "cell_type": "code",
   "execution_count": null,
   "id": "d225e59e",
   "metadata": {
    "papermill": {
     "duration": 0.004906,
     "end_time": "2023-01-19T13:14:28.222180",
     "exception": false,
     "start_time": "2023-01-19T13:14:28.217274",
     "status": "completed"
    },
    "tags": []
   },
   "outputs": [],
   "source": []
  }
 ],
 "metadata": {
  "kernelspec": {
   "display_name": "Python 3",
   "language": "python",
   "name": "python3"
  },
  "language_info": {
   "codemirror_mode": {
    "name": "ipython",
    "version": 3
   },
   "file_extension": ".py",
   "mimetype": "text/x-python",
   "name": "python",
   "nbconvert_exporter": "python",
   "pygments_lexer": "ipython3",
   "version": "3.7.12"
  },
  "papermill": {
   "default_parameters": {},
   "duration": 11.802439,
   "end_time": "2023-01-19T13:14:28.949673",
   "environment_variables": {},
   "exception": null,
   "input_path": "__notebook__.ipynb",
   "output_path": "__notebook__.ipynb",
   "parameters": {},
   "start_time": "2023-01-19T13:14:17.147234",
   "version": "2.3.4"
  }
 },
 "nbformat": 4,
 "nbformat_minor": 5
}
